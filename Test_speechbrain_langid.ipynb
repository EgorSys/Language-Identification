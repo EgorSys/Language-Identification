{
 "cells": [
  {
   "cell_type": "markdown",
   "id": "7f35bf0f",
   "metadata": {},
   "source": [
    "# Imports"
   ]
  },
  {
   "cell_type": "code",
   "execution_count": 5,
   "id": "f2342710",
   "metadata": {},
   "outputs": [],
   "source": [
    "import torchaudio\n",
    "from speechbrain.pretrained import EncoderClassifier\n",
    "import os\n",
    "import numpy as np\n",
    "\n",
    "from sklearn.metrics import accuracy_score\n",
    "from sklearn.metrics import confusion_matrix\n",
    "from sklearn.metrics import classification_report"
   ]
  },
  {
   "cell_type": "markdown",
   "id": "dff54db1",
   "metadata": {},
   "source": [
    "# Loading the model"
   ]
  },
  {
   "cell_type": "code",
   "execution_count": 6,
   "id": "14a66558",
   "metadata": {},
   "outputs": [],
   "source": [
    "language_id = EncoderClassifier.from_hparams(source=\"speechbrain/lang-id-voxlingua107-ecapa\", savedir=\"tmp\", run_opts={\"device\":\"cuda\"})"
   ]
  },
  {
   "cell_type": "markdown",
   "id": "fb7dc373",
   "metadata": {},
   "source": [
    "We will also define the \"classify\" function fro convenience"
   ]
  },
  {
   "cell_type": "code",
   "execution_count": 7,
   "id": "679c093b",
   "metadata": {},
   "outputs": [],
   "source": [
    "def classify(path, language_id):\n",
    "    signal, sr = torchaudio.load(path, channels_first=False)\n",
    "    signal = language_id.audio_normalizer(signal, sr)\n",
    "    prediction =  language_id.classify_batch(signal)\n",
    "    pred_lang_name = prediction[3][0][:2]\n",
    "    return pred_lang_name"
   ]
  },
  {
   "cell_type": "markdown",
   "id": "c19803e1",
   "metadata": {},
   "source": [
    "# Testing and getting the data"
   ]
  },
  {
   "cell_type": "markdown",
   "id": "b52e04f3",
   "metadata": {},
   "source": [
    "Test on real data from /mnt/ssd/nanosemantics/cv-corpus-9.0-2022-04-27/"
   ]
  },
  {
   "cell_type": "code",
   "execution_count": 9,
   "id": "36ac18ca",
   "metadata": {
    "scrolled": false
   },
   "outputs": [
    {
     "name": "stdout",
     "output_type": "stream",
     "text": [
      "it finished\n",
      "kk finished\n",
      "hi finished\n",
      "tr finished\n",
      "be finished\n",
      "de finished\n",
      "ja finished\n",
      "uk finished\n",
      "pt finished\n",
      "ru finished\n",
      "id finished\n",
      "uz finished\n",
      "ar finished\n",
      "bn finished\n",
      "en finished\n",
      "fr finished\n",
      "zh finished\n",
      "es finished\n"
     ]
    }
   ],
   "source": [
    "\n",
    "corp_dir = '/mnt/ssd/nanosemantics/cv-corpus-9.0-2022-04-27/'\n",
    "\n",
    "y_test = []\n",
    "y_pred = []\n",
    "\n",
    "for lang_dir in os.listdir(corp_dir):\n",
    "    if lang_dir == 'ky':\n",
    "        continue\n",
    "    \n",
    "    lang_name = lang_dir[:2]\n",
    "    full_path = corp_dir+'/'+lang_dir+'/clips'\n",
    "    audio_files = os.listdir(full_path)\n",
    "    \n",
    "    if len(audio_files) < 1000:\n",
    "        n = len(audio_files)\n",
    "    else:\n",
    "        n = 1000\n",
    "    for i in range(n):\n",
    "        y_test.append(lang_name)\n",
    "                             \n",
    "    for audio_file in audio_files[:n]:\n",
    "        full_audio_file = full_path+'/'+audio_file   \n",
    "        \n",
    "        pred_lang_name = classify(full_audio_file, language_id)\n",
    "        \n",
    "        y_pred.append(pred_lang_name)\n",
    "    \n",
    "    print(lang_name, 'finished')"
   ]
  },
  {
   "cell_type": "markdown",
   "id": "6d08881e",
   "metadata": {},
   "source": [
    "# Perform metric calculations"
   ]
  },
  {
   "cell_type": "markdown",
   "id": "faa00acb",
   "metadata": {},
   "source": [
    "First we convert y_test and y_pred to numpy arrays"
   ]
  },
  {
   "cell_type": "code",
   "execution_count": 10,
   "id": "f4569db6",
   "metadata": {},
   "outputs": [],
   "source": [
    "y_test = np.array(y_test)\n",
    "y_pred = np.array(y_pred)"
   ]
  },
  {
   "cell_type": "markdown",
   "id": "5e69cef6",
   "metadata": {},
   "source": [
    "Accuracy score"
   ]
  },
  {
   "cell_type": "code",
   "execution_count": 11,
   "id": "abb3734e",
   "metadata": {},
   "outputs": [
    {
     "name": "stdout",
     "output_type": "stream",
     "text": [
      "Accuracy score: 0.7979444444444445\n"
     ]
    }
   ],
   "source": [
    "acc_score = accuracy_score(y_test, y_pred)\n",
    "print('Accuracy score:', acc_score)"
   ]
  },
  {
   "cell_type": "markdown",
   "id": "2026996e",
   "metadata": {},
   "source": [
    "Confusion matrix"
   ]
  },
  {
   "cell_type": "code",
   "execution_count": 15,
   "id": "e1260e78",
   "metadata": {},
   "outputs": [
    {
     "name": "stdout",
     "output_type": "stream",
     "text": [
      "Confusion matrix:\n",
      "[[823   0   0   1   0   0   1   3   3   1   1   2   2   2   0   1   0   2]\n",
      " [  0 960   0   0   0   0   0   0   0  11   2   8   1   0   0   1   0   0]\n",
      " [  0   0 844   0   0   0   0   0   0   0   1   0   0   0   2   0   0   0]\n",
      " [  0  14   2 740   2   0   9   2   2   2   1  11   3   2   1   2   1   0]\n",
      " [  0   3   0   0 785   0   0  68   0 127   0   2   0   0   0   0   0   0]\n",
      " [  0   2   1   0   0 842   1   2   0   0   1   4   2   0   4   1   1   0]\n",
      " [  0   0   0   2   0   0 935   1   2   1   0   0   0   1   0   4   2   0]\n",
      " [  0   3   2   0  39   0   0 807   2  72   0   2   0   0   0   0   0   0]\n",
      " [  0   3   0   2   1   0   1   4 851   1   0   1   0   2   1   3   0   1]\n",
      " [  0   2   0   0 138   0   0  40   3 756   1   1   1   0   0   0   0   0]\n",
      " [  0   2   1   0   1   0   1   2   1   0 726   2   4   1   0   0   1   0]\n",
      " [  0  17   5   4   0   0   3   1   1   3   1 791   2   0   1   2   0   0]\n",
      " [  2   1   2   1   1   1   1   1   2   3   4   8 728   6   0   4   2   0]\n",
      " [  0   0   5   0   0   0   0   1   2   0   1   3   0 909   0   0   0   0]\n",
      " [  0   0  16   1   0  15   0   0   5   2   2   0   6   4 635   2   0   0]\n",
      " [  0   2   0   0   0   0   0   4   3   2   0   0   3   0   1 869   3   0]\n",
      " [  0   2   0   0   0   0   4   1   5   0   0   2   7   1   1   0 855   1]\n",
      " [  3   0   2   0   1   0   3   0   8   1   1   2   3   0   4   1   1 507]]\n"
     ]
    }
   ],
   "source": [
    "conf_mtx = confusion_matrix(y_test, y_pred, labels = ['it', 'kk', 'hi', 'tr', 'be', 'de', 'ja', 'uk', 'pt', 'ru', 'id', 'uz', 'ar', 'bn', 'en', 'fr', 'zh', 'es'])\n",
    "print('Confusion matrix:')\n",
    "print(conf_mtx)"
   ]
  },
  {
   "cell_type": "markdown",
   "id": "0cf43376",
   "metadata": {},
   "source": [
    "Classification report"
   ]
  },
  {
   "cell_type": "code",
   "execution_count": 18,
   "id": "a366ba1c",
   "metadata": {},
   "outputs": [
    {
     "name": "stdout",
     "output_type": "stream",
     "text": [
      "              precision    recall  f1-score   support\n",
      "\n",
      "          it       0.99      0.82      0.90      1000\n",
      "          kk       0.95      0.96      0.95      1000\n",
      "          hi       0.96      0.84      0.90      1000\n",
      "          tr       0.99      0.74      0.85      1000\n",
      "          be       0.81      0.79      0.80      1000\n",
      "          de       0.98      0.84      0.91      1000\n",
      "          ja       0.97      0.94      0.95      1000\n",
      "          uk       0.86      0.81      0.83      1000\n",
      "          pt       0.96      0.85      0.90      1000\n",
      "          ru       0.77      0.76      0.76      1000\n",
      "          id       0.98      0.73      0.83      1000\n",
      "          uz       0.94      0.79      0.86      1000\n",
      "          ar       0.96      0.73      0.83      1000\n",
      "          bn       0.98      0.91      0.94      1000\n",
      "          en       0.98      0.64      0.77      1000\n",
      "          fr       0.98      0.87      0.92      1000\n",
      "          zh       0.99      0.85      0.92      1000\n",
      "          es       0.99      0.51      0.67      1000\n",
      "\n",
      "   micro avg       0.94      0.80      0.86     18000\n",
      "   macro avg       0.95      0.80      0.86     18000\n",
      "weighted avg       0.95      0.80      0.86     18000\n",
      "\n"
     ]
    }
   ],
   "source": [
    "clsf_report = classification_report(y_test, y_pred, labels = ['it', 'kk', 'hi', 'tr', 'be', 'de', 'ja', 'uk', 'pt', 'ru', 'id', 'uz', 'ar', 'bn', 'en', 'fr', 'zh', 'es'])\n",
    "print(clsf_report)"
   ]
  },
  {
   "cell_type": "markdown",
   "id": "8113f18b",
   "metadata": {},
   "source": [
    "Saving all the resulting values"
   ]
  },
  {
   "cell_type": "code",
   "execution_count": 19,
   "id": "85f90a63",
   "metadata": {},
   "outputs": [],
   "source": [
    "np.save('testing_results/accuracy_score.npy', acc_score)\n",
    "np.save('testing_results/confusion_matrix.npy', conf_mtx)\n",
    "np.save('testing_results/classification_report.npy', clsf_report)"
   ]
  },
  {
   "cell_type": "code",
   "execution_count": null,
   "id": "53e6ce72",
   "metadata": {},
   "outputs": [],
   "source": []
  }
 ],
 "metadata": {
  "kernelspec": {
   "display_name": "Python 3 (ipykernel)",
   "language": "python",
   "name": "python3"
  },
  "language_info": {
   "codemirror_mode": {
    "name": "ipython",
    "version": 3
   },
   "file_extension": ".py",
   "mimetype": "text/x-python",
   "name": "python",
   "nbconvert_exporter": "python",
   "pygments_lexer": "ipython3",
   "version": "3.8.13"
  }
 },
 "nbformat": 4,
 "nbformat_minor": 5
}
